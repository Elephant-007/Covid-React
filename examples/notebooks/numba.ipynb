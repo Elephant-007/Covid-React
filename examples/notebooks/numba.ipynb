{
 "cells": [
  {
   "cell_type": "markdown",
   "metadata": {},
   "source": [
    "This example assumes the notebook server has been called with `ipython notebook --pylab inline` and the trunk version of numba at Github."
   ]
  },
  {
   "cell_type": "code",
   "execution_count": null,
   "metadata": {
    "collapsed": false
   },
   "outputs": [],
   "source": [
    "import numpy as np\n",
    "from numba import autojit, jit, double\n",
    "%pylab inline"
   ]
  },
  {
   "cell_type": "markdown",
   "metadata": {},
   "source": [
    "Numba provides two major decorators:  `jit` and `autojit`.  \n",
    "\n",
    "The `jit` decorator returns a compiled version of the function using the input types and the output types of the function.   You can specify the type using `out_type(in_type, ...)` syntax.  Array inputs can be specified using `[:,:]` appended to the type.  \n",
    "\n",
    "The `autojit` decorator does not require you to specify any types.  It watches for what types you call the function with and infers the type of the return.  If there is a previously compiled version of the code available it uses it, if not it generates machine code for the function and then executes that code. "
   ]
  },
  {
   "cell_type": "code",
   "execution_count": null,
   "metadata": {
    "collapsed": false
   },
   "outputs": [],
   "source": [
    "def sum(arr):\n",
    "    M, N = arr.shape\n",
    "    sum = 0.0\n",
    "    for i in range(M):\n",
    "        for j in range(N):\n",
    "            sum += arr[i,j]\n",
    "    return sum\n",
    "fastsum = jit('f8(f8[:,:])')(sum)\n",
    "flexsum = autojit(sum)"
   ]
  },
  {
   "cell_type": "code",
   "execution_count": null,
   "metadata": {
    "collapsed": false
   },
   "outputs": [],
   "source": [
    "arr2d = np.arange(600,dtype=float).reshape(20,30)\n",
    "print(sum(arr2d))\n",
    "print(fastsum(arr2d))\n",
    "print(flexsum(arr2d))\n",
    "print(flexsum(arr2d.astype(int)))"
   ]
  },
  {
   "cell_type": "code",
   "execution_count": null,
   "metadata": {
    "collapsed": false
   },
   "outputs": [],
   "source": [
    "%timeit sum(arr2d)"
   ]
  },
  {
   "cell_type": "code",
   "execution_count": null,
   "metadata": {
    "collapsed": false
   },
   "outputs": [],
   "source": [
    "%timeit fastsum(arr2d)"
   ]
  },
  {
   "cell_type": "code",
   "execution_count": null,
   "metadata": {
    "collapsed": false
   },
   "outputs": [],
   "source": [
    "416 / .921# speedup"
   ]
  },
  {
   "cell_type": "code",
   "execution_count": null,
   "metadata": {
    "collapsed": false
   },
   "outputs": [],
   "source": [
    "%timeit arr2d.sum() "
   ]
  },
  {
   "cell_type": "code",
   "execution_count": null,
   "metadata": {
    "collapsed": false
   },
   "outputs": [],
   "source": [
    "7.86 / .921 # even provides a speedup over general-purpose NumPy sum"
   ]
  },
  {
   "cell_type": "markdown",
   "metadata": {},
   "source": [
    "The speed-up is even more pronounced the more inner loops in the code.   Here is an image processing example:"
   ]
  },
  {
   "cell_type": "code",
   "execution_count": null,
   "metadata": {
    "collapsed": false
   },
   "outputs": [],
   "source": [
    "@jit('void(f8[:,:],f8[:,:],f8[:,:])')\n",
    "def filter(image, filt, output):\n",
    "    M, N = image.shape\n",
    "    m, n = filt.shape\n",
    "    for i in range(m//2, M-m//2):\n",
    "        for j in range(n//2, N-n//2):\n",
    "            result = 0.0\n",
    "            for k in range(m):\n",
    "                for l in range(n):\n",
    "                    result += image[i+k-m//2,j+l-n//2]*filt[k, l]\n",
    "            output[i,j] = result\n",
    "\n",
    "import urllib\n",
    "bytes = urllib.urlopen('http://www.cs.tut.fi/~foi/SA-DCT/original/image_Lake512.png').read()            \n",
    "from matplotlib.pyplot import imread\n",
    "import cStringIO\n",
    "image = imread(cStringIO.StringIO(bytes)).astype('double')\n",
    "import time\n",
    "filt = np.ones((15,15),dtype='double')\n",
    "filt /= filt.sum()\n",
    "output = image.copy()\n",
    "filter(image, filt, output)\n",
    "gray()\n",
    "imshow(output)\n",
    "start = time.time()\n",
    "filter(image[:100,:100], filt, output[:100,:100])\n",
    "fast = time.time() - start\n",
    "start = time.time()\n",
    "filter.py_func(image[:100,:100], filt, output[:100,:100])\n",
    "slow = time.time() - start\n",
    "print(\"Python: %f s; Numba: %f ms; Speed up is %f\" % (slow, fast*1000, slow / fast))"
   ]
  },
  {
   "cell_type": "code",
   "execution_count": null,
   "metadata": {
    "collapsed": false
   },
   "outputs": [],
   "source": [
    "imshow(image)\n",
    "gray()"
   ]
  },
  {
   "cell_type": "markdown",
   "metadata": {},
   "source": [
    "You can call Numba-created functions from other Numba-created functions and get even more amazing speed-ups."
   ]
  },
  {
   "cell_type": "code",
   "execution_count": null,
   "metadata": {
    "collapsed": false
   },
   "outputs": [],
   "source": [
    "@autojit\n",
    "def mandel(x, y, max_iters):\n",
    "    \"\"\"\n",
    "    Given the real and imaginary parts of a complex number,\n",
    "    determine if it is a candidate for membership in the Mandelbrot\n",
    "    set given a fixed number of iterations.\n",
    "    \"\"\"\n",
    "    i = 0\n",
    "    c = complex(x, y)\n",
    "    z = 0.0j\n",
    "    for i in range(max_iters):\n",
    "        z = z*z + c\n",
    "        if (z.real*z.real + z.imag*z.imag) >= 4:\n",
    "            return i\n",
    "\n",
    "    return 255\n",
    "\n",
    "@autojit\n",
    "def create_fractal(min_x, max_x, min_y, max_y, image, iters):\n",
    "    height = image.shape[0]\n",
    "    width = image.shape[1]\n",
    "\n",
    "    pixel_size_x = (max_x - min_x) / width\n",
    "    pixel_size_y = (max_y - min_y) / height\n",
    "    for x in range(width):\n",
    "        real = min_x + x * pixel_size_x\n",
    "        for y in range(height):\n",
    "            imag = min_y + y * pixel_size_y\n",
    "            color = mandel(real, imag, iters)\n",
    "            image[y, x] = color\n",
    "\n",
    "    return image\n",
    "\n",
    "image = np.zeros((500, 750), dtype=np.uint8)\n",
    "imshow(create_fractal(-2.0, 1.0, -1.0, 1.0, image, 20))\n",
    "jet()"
   ]
  },
  {
   "cell_type": "code",
   "execution_count": null,
   "metadata": {
    "collapsed": false
   },
   "outputs": [],
   "source": [
    "%timeit create_fractal(-2.0, 1.0, -1.0, 1.0, image, 20)"
   ]
  },
  {
   "cell_type": "code",
   "execution_count": null,
   "metadata": {
    "collapsed": false
   },
   "outputs": [],
   "source": [
    "%timeit create_fractal.py_func(-2.0, 1.0, -1.0, 1.0, image, 20)"
   ]
  },
  {
   "cell_type": "code",
   "execution_count": null,
   "metadata": {
    "collapsed": false
   },
   "outputs": [],
   "source": [
    "2.14/16.3e-3 "
   ]
  },
  {
   "cell_type": "markdown",
   "metadata": {},
   "source": [
    "Numba works very well for numerical calculations and infers types for variables.  You can over-ride this inference by passing in a locals dictionary to the autojit decorator.   Notice how the code below shows both Python object manipulation and native manipulation"
   ]
  },
  {
   "cell_type": "code",
   "execution_count": null,
   "metadata": {
    "collapsed": false
   },
   "outputs": [],
   "source": [
    "from numba import double, autojit\n",
    "\n",
    "class MyClass(object):\n",
    "    def mymethod(self, arg):\n",
    "        return arg * 2\n",
    "\n",
    "@autojit(locals=dict(mydouble=double)) # specify types for local variables\n",
    "def call_method(obj):\n",
    "    print(obj.mymethod(\"hello\"))        # object result\n",
    "    mydouble = obj.mymethod(10.2) # native double\n",
    "    print(mydouble * 2)                      # native multiplication\n",
    "\n",
    "call_method(MyClass())"
   ]
  },
  {
   "cell_type": "markdown",
   "metadata": {},
   "source": [
    "Basic complex support is available as well.  Some functions are still being implemented, however."
   ]
  },
  {
   "cell_type": "code",
   "execution_count": null,
   "metadata": {
    "collapsed": false
   },
   "outputs": [],
   "source": [
    "@autojit\n",
    "def complex_support(real, imag):\n",
    "    c = complex(real, imag)\n",
    "    return (c ** 2).conjugate()\n",
    "\n",
    "c = 2.0 + 4.0j\n",
    "complex_support(c.real, c.imag), (c**2).conjugate()"
   ]
  },
  {
   "cell_type": "markdown",
   "metadata": {},
   "source": [
    "We can even create a function that takes a structured array as input."
   ]
  },
  {
   "cell_type": "code",
   "execution_count": null,
   "metadata": {
    "collapsed": false
   },
   "outputs": [],
   "source": [
    "from numba import struct, jit, double\n",
    "import numpy as np\n",
    "\n",
    "record_type = struct([('x', double), ('y', double)])\n",
    "record_dtype = record_type.get_dtype()\n",
    "a = np.array([(1.0, 2.0), (3.0, 4.0)], dtype=record_dtype)\n",
    "\n",
    "@jit(argtypes=[record_type[:]])\n",
    "def hypot(data):\n",
    "    # return types of numpy functions are inferred\n",
    "    result = np.empty_like(data, dtype=np.float64)\n",
    "    # notice access to structure elements 'x' and 'y' via attribute access\n",
    "    # You can also index by field name or field index:\n",
    "    #       data[i].x == data[i]['x'] == data[i][0]\n",
    "    for i in range(data.shape[0]):\n",
    "        result[i] = np.sqrt(data[i].x * data[i].x + data[i].y * data[i].y)\n",
    "\n",
    "    return result\n",
    "\n",
    "print(hypot(a))\n",
    "\n",
    "# Notice inferred return type\n",
    "print(hypot.signature)\n",
    "# Notice native sqrt calls and for.body direct access to memory...\n",
    "print(hypot.lfunc)"
   ]
  },
  {
   "cell_type": "code",
   "execution_count": null,
   "metadata": {
    "collapsed": false
   },
   "outputs": [],
   "source": [
    "print(hypot.signature) # inspect function signature, note inferred return type"
   ]
  },
  {
   "cell_type": "code",
   "execution_count": null,
   "metadata": {
    "collapsed": false
   },
   "outputs": [],
   "source": [
    "[line for line in str(hypot.lfunc).splitlines() if 'sqrt' in line] # note native math calls"
   ]
  },
  {
   "cell_type": "markdown",
   "metadata": {},
   "source": [
    "The roadmap for Numba includes better error-handling, support for almost all Python syntax which gets compiled to code that either uses machine instructions or else the Python library run-time, improved support for complex numbers, and the ability to decorate classes to create compiled objects easily.  Object-oriented programming with Numba is at the door-step as well. Join us at numba-users@continuum.io"
   ]
  },
  {
   "cell_type": "markdown",
   "metadata": {},
   "source": [
    "The commercial product NumbaPro http://www.continuum.io includes additional features:\n",
    "\n",
    "* ability to create ufuncs (fast-vectorize targeting GPU, multiple cores)\n",
    "* ability to create generalized ufuncs easily\n",
    "* CUDA Python -- target the GPU directly with any code (coming next release!)\n",
    "* ability to target multiple-cores with general code (comming soon!)  \n",
    "* array-expressions (ability to write NumPy-like code that gets compiled)"
   ]
  },
  {
   "cell_type": "code",
   "execution_count": null,
   "metadata": {
    "collapsed": false
   },
   "outputs": [],
   "source": []
  }
 ],
 "metadata": {
  "kernelspec": {
   "display_name": "Python 3",
   "language": "python",
   "name": "python3"
  },
  "language_info": {
   "codemirror_mode": {
    "name": "ipython",
    "version": 3
   },
   "file_extension": ".py",
   "mimetype": "text/x-python",
   "name": "python",
   "nbconvert_exporter": "python",
   "pygments_lexer": "ipython3",
   "version": "3.4.3"
  }
 },
 "nbformat": 4,
 "nbformat_minor": 0
}
