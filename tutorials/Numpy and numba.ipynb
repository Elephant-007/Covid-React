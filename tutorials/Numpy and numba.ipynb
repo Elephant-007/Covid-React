{
 "metadata": {
  "name": ""
 },
 "nbformat": 3,
 "nbformat_minor": 0,
 "worksheets": [
  {
   "cells": [
    {
     "cell_type": "heading",
     "level": 1,
     "metadata": {},
     "source": [
      "NumPy and numba"
     ]
    },
    {
     "cell_type": "code",
     "collapsed": false,
     "input": [
      "from __future__ import print_function\n",
      "import numba\n",
      "import numpy as np\n",
      "import math\n",
      "import llvm\n",
      "import ctypes\n",
      "print(\"numba version: %s \\nNumPy version: %s\\nllvm version: %s\" % (numba.__version__,np.__version__, llvm.__version__))"
     ],
     "language": "python",
     "metadata": {},
     "outputs": [
      {
       "output_type": "stream",
       "stream": "stdout",
       "text": [
        "numba version: 0.11.1-2-gf56bd17 \n",
        "NumPy version: 1.7.1\n",
        "llvm version: 0.12.0\n"
       ]
      }
     ],
     "prompt_number": 2
    },
    {
     "cell_type": "heading",
     "level": 2,
     "metadata": {},
     "source": [
      "NumPy and numba: a perfect match"
     ]
    },
    {
     "cell_type": "markdown",
     "metadata": {},
     "source": [
      "+ _NumPy_ provides a compact, typed container for homogenous arrays of data. This is ideal to store data homogeneous data in *Python* with little overhead. _NumPy_ also provides a set of functions that allows manipulation of that data, as well as operating over it. There is a rich ecosystem around _Numpy_ that results in fast manipulation of _Numpy arrays_, as long as this manipulation is done using pre-baked operations (that are typically vectorized). This operations are usually provided by extension modules and written in C, using the _Numpy C API_. \n",
      "+ _numba_ allows generating native code from Python functions just by adding decorators. This code is wrapped and directly callable from within Python.\n",
      "\n",
      "If you are familiar with _Numpy_, you will know that it can provide adequate performance as long as you write your Python code in the _NumPy_ way. You are pretty much dependent of the _NumPy_ ecosystem, which is quite large, for the operations that can be executed in an efficient way.  In some cases you will be able to express your function/algorithm as a composition of vector operations, or in the worst case you could write an extension module using the _Numpy C API_.\n",
      "\n",
      "Wouldn't it be great if you could just write code in *Python* that describes your function and execute it at speed similar to that of what you could achieve with the extension module, all without leaving the *Python interpreter*? _numba_ allows that.\n",
      "\n",
      "_NumPy_ provides an _array_ object that makes it easy to create and access _bulk data_ within _Python_ in a way that can be accessed efficiently by *low-level* languages. As _numba_ understands _NumPy arrays_ layout, it can generate pretty tight code when accessing these arrays. In many cases you can write the function, debug it within Python using the interpreter, and once the function is finished just add a decorator and get speed that is competitive with *native versions*. This can be done even in interactive sessions, which is great if you are using an iPython notebook, for example."
     ]
    },
    {
     "cell_type": "heading",
     "level": 2,
     "metadata": {},
     "source": [
      "_NumPy arrays_ in numba"
     ]
    },
    {
     "cell_type": "markdown",
     "metadata": {},
     "source": [
      "NumPy arrays are understood by numba. By using the *numba.typeof* we can see that numba not only knows about the arrays themshelves, but also about its shape and underlying dtypes:"
     ]
    },
    {
     "cell_type": "code",
     "collapsed": false,
     "input": [
      "array = np.arange(2000, dtype=np.float_)\n",
      "numba.typeof(array)"
     ],
     "language": "python",
     "metadata": {},
     "outputs": [
      {
       "metadata": {},
       "output_type": "pyout",
       "prompt_number": 3,
       "text": [
        "float64[:]"
       ]
      }
     ],
     "prompt_number": 3
    },
    {
     "cell_type": "code",
     "collapsed": false,
     "input": [
      "numba.typeof(array.reshape((2,10,100)))"
     ],
     "language": "python",
     "metadata": {},
     "outputs": [
      {
       "metadata": {},
       "output_type": "pyout",
       "prompt_number": 4,
       "text": [
        "float64[:, :, :]"
       ]
      }
     ],
     "prompt_number": 4
    },
    {
     "cell_type": "markdown",
     "metadata": {},
     "source": [
      "Note that for *numba* the underlying dtype is the base type of the array. The number of dimensions is also part of the type, but the *arity* of each dimension is not. That is, the lenght of the tuple defining the shape is part of the the type, but not the elements of that tuple. So:"
     ]
    },
    {
     "cell_type": "code",
     "collapsed": false,
     "input": [
      "numba.typeof(array.reshape((2,10,100))) == numba.typeof(array.reshape((4,10,50)))"
     ],
     "language": "python",
     "metadata": {},
     "outputs": [
      {
       "metadata": {},
       "output_type": "pyout",
       "prompt_number": 5,
       "text": [
        "True"
       ]
      }
     ],
     "prompt_number": 5
    },
    {
     "cell_type": "code",
     "collapsed": false,
     "input": [
      "numba.typeof(array.reshape((2,10,100))) == numba.typeof(array.reshape((40,50)))"
     ],
     "language": "python",
     "metadata": {},
     "outputs": [
      {
       "metadata": {},
       "output_type": "pyout",
       "prompt_number": 6,
       "text": [
        "False"
       ]
      }
     ],
     "prompt_number": 6
    },
    {
     "cell_type": "heading",
     "level": 3,
     "metadata": {},
     "source": [
      "Indexing and Slicing"
     ]
    },
    {
     "cell_type": "markdown",
     "metadata": {},
     "source": [
      "Indexing and slicing of _NumPy arrays_ are handled natively by _numba_. This means that it is possible to _index_ and _slice_ a _Numpy array_ in _numba_ compiled code without relying on the _Python runtime_. In practice this means that _numba_ code running on _NumPy arrays_ will execute with a level of efficiency close to that of C. Note however that _numba_ code does not include range checks when indexing, so you need to be careful when coding to make sure all accesses are within scope, as instead of an _IndexError_ exception you will be addressing the wrong memory. This can result in unexpected behavior or even heap corruption and crashes.\n",
      "\n",
      "For example:\n",
      "\n",
      "Let's take a simple bidimensional array; this sample array is a 2 x 8 array. The array should be in _C_ order."
     ]
    },
    {
     "cell_type": "code",
     "collapsed": false,
     "input": [
      "arr = np.arange(16.0).reshape((2,8))\n",
      "print(arr)\n",
      "print(arr.strides)"
     ],
     "language": "python",
     "metadata": {},
     "outputs": [
      {
       "output_type": "stream",
       "stream": "stdout",
       "text": [
        "[[  0.   1.   2.   3.   4.   5.   6.   7.]\n",
        " [  8.   9.  10.  11.  12.  13.  14.  15.]]\n",
        "(64, 8)\n"
       ]
      }
     ],
     "prompt_number": 31
    },
    {
     "cell_type": "markdown",
     "metadata": {},
     "source": [
      "As indexing in Python is 0-based, the following line will cause an exception error, as arr.shape[1] is 8, and the range for the column number is (0..7):"
     ]
    },
    {
     "cell_type": "code",
     "collapsed": false,
     "input": [
      "arr[0, arr.shape[1]] = 42.0"
     ],
     "language": "python",
     "metadata": {},
     "outputs": [
      {
       "ename": "IndexError",
       "evalue": "index 8 is out of bounds for axis 1 with size 8",
       "output_type": "pyerr",
       "traceback": [
        "\u001b[0;31m---------------------------------------------------------------------------\u001b[0m\n\u001b[0;31mIndexError\u001b[0m                                Traceback (most recent call last)",
        "\u001b[0;32m<ipython-input-24-06c1e5ef06d0>\u001b[0m in \u001b[0;36m<module>\u001b[0;34m()\u001b[0m\n\u001b[0;32m----> 1\u001b[0;31m \u001b[0marr\u001b[0m\u001b[0;34m[\u001b[0m\u001b[0;36m0\u001b[0m\u001b[0;34m,\u001b[0m \u001b[0marr\u001b[0m\u001b[0;34m.\u001b[0m\u001b[0mshape\u001b[0m\u001b[0;34m[\u001b[0m\u001b[0;36m1\u001b[0m\u001b[0;34m]\u001b[0m\u001b[0;34m]\u001b[0m \u001b[0;34m=\u001b[0m \u001b[0;36m42.0\u001b[0m\u001b[0;34m\u001b[0m\u001b[0m\n\u001b[0m",
        "\u001b[0;31mIndexError\u001b[0m: index 8 is out of bounds for axis 1 with size 8"
       ]
      }
     ],
     "prompt_number": 24
    },
    {
     "cell_type": "markdown",
     "metadata": {},
     "source": [
      "However, as _numba_ doesn't have range checks, it will index anyways. As the index is out of bounds, and the array is in C order, the value will overflow into the next row. In this case, in the place reserved for element (1, 0)."
     ]
    },
    {
     "cell_type": "code",
     "collapsed": false,
     "input": [
      "@numba.jit(\"void(f8[:,:])\")\n",
      "def bad_access(array):\n",
      "    array[0, array.shape[1]] = 42.0\n",
      "bad_access(arr)\n",
      "print(arr)"
     ],
     "language": "python",
     "metadata": {},
     "outputs": [
      {
       "output_type": "stream",
       "stream": "stdout",
       "text": [
        "[[  0.   1.   2.   3.   4.   5.   6.   7.]\n",
        " [ 42.   9.  10.  11.  12.  13.  14.  15.]]\n"
       ]
      }
     ],
     "prompt_number": 27
    },
    {
     "cell_type": "markdown",
     "metadata": {},
     "source": [
      "In this sample case we where lucky, as the _out-of-bounds_ access fell into the allocated range. Unchecked indexing can potentially cause illegal accesses and crash the process running the *Python interpreter*. However, it allows for code generation that produces faster code.\n",
      "\n",
      "As mentioned before, array _indexing_ and _slicing_ is supported natively without relying in the *Python runtime*. One way to check this is by forcing the _nopython_ context when jitting the function:"
     ]
    },
    {
     "cell_type": "code",
     "collapsed": false,
     "input": [
      "@numba.jit(\"void(f8[:,:])\", nopython=True)\n",
      "def copy_first_row_sl(array):\n",
      "    \"makes a copy of the first row over the rest of the rows in an array, by slices\"\n",
      "    for i in xrange(1, array.shape[0]):\n",
      "        array[i] = array[0]\n",
      "        "
     ],
     "language": "python",
     "metadata": {},
     "outputs": [],
     "prompt_number": 32
    },
    {
     "cell_type": "code",
     "collapsed": false,
     "input": [
      "arr = np.arange(60.0).reshape(6,10)\n",
      "print(arr)"
     ],
     "language": "python",
     "metadata": {},
     "outputs": [
      {
       "output_type": "stream",
       "stream": "stdout",
       "text": [
        "[[  0.   1.   2.   3.   4.   5.   6.   7.   8.   9.]\n",
        " [ 10.  11.  12.  13.  14.  15.  16.  17.  18.  19.]\n",
        " [ 20.  21.  22.  23.  24.  25.  26.  27.  28.  29.]\n",
        " [ 30.  31.  32.  33.  34.  35.  36.  37.  38.  39.]\n",
        " [ 40.  41.  42.  43.  44.  45.  46.  47.  48.  49.]\n",
        " [ 50.  51.  52.  53.  54.  55.  56.  57.  58.  59.]]\n"
       ]
      }
     ],
     "prompt_number": 34
    },
    {
     "cell_type": "code",
     "collapsed": false,
     "input": [
      "%timeit copy_first_row_sl(arr)\n",
      "print(arr)"
     ],
     "language": "python",
     "metadata": {},
     "outputs": [
      {
       "output_type": "stream",
       "stream": "stdout",
       "text": [
        "1000000 loops, best of 3: 342 ns per loop\n",
        "[[ 0.  1.  2.  3.  4.  5.  6.  7.  8.  9.]\n",
        " [ 0.  1.  2.  3.  4.  5.  6.  7.  8.  9.]\n",
        " [ 0.  1.  2.  3.  4.  5.  6.  7.  8.  9.]\n",
        " [ 0.  1.  2.  3.  4.  5.  6.  7.  8.  9.]\n",
        " [ 0.  1.  2.  3.  4.  5.  6.  7.  8.  9.]\n",
        " [ 0.  1.  2.  3.  4.  5.  6.  7.  8.  9.]]\n"
       ]
      }
     ],
     "prompt_number": 37
    },
    {
     "cell_type": "code",
     "collapsed": false,
     "input": [
      "@numba.jit(\"void(f8[:,:])\", nopython=True)\n",
      "def copy_first_row_el(array):\n",
      "    \"makes a copy of the first row over the rest of the rows in an array, by elements\"\n",
      "    for i in xrange(1, array.shape[0]):\n",
      "        for j in xrange(0, array.shape[1]):\n",
      "            array[i,j] = array[0,j]"
     ],
     "language": "python",
     "metadata": {},
     "outputs": [],
     "prompt_number": 40
    },
    {
     "cell_type": "code",
     "collapsed": false,
     "input": [
      "%timeit copy_first_row_el(arr)\n",
      "print(arr)"
     ],
     "language": "python",
     "metadata": {},
     "outputs": [
      {
       "output_type": "stream",
       "stream": "stdout",
       "text": [
        "1000000 loops, best of 3: 215 ns per loop\n",
        "[[ 0.  1.  2.  3.  4.  5.  6.  7.  8.  9.]\n",
        " [ 0.  1.  2.  3.  4.  5.  6.  7.  8.  9.]\n",
        " [ 0.  1.  2.  3.  4.  5.  6.  7.  8.  9.]\n",
        " [ 0.  1.  2.  3.  4.  5.  6.  7.  8.  9.]\n",
        " [ 0.  1.  2.  3.  4.  5.  6.  7.  8.  9.]\n",
        " [ 0.  1.  2.  3.  4.  5.  6.  7.  8.  9.]]\n"
       ]
      }
     ],
     "prompt_number": 41
    },
    {
     "cell_type": "code",
     "collapsed": false,
     "input": [
      "def py_copy_first_row_sl(array):\n",
      "    for i in xrange(array.shape[0]):\n",
      "        array[i] = array[0]"
     ],
     "language": "python",
     "metadata": {},
     "outputs": [],
     "prompt_number": 44
    },
    {
     "cell_type": "code",
     "collapsed": false,
     "input": [
      "def py_copy_first_row_el(array):\n",
      "    for i in xrange(1, array.shape[0]):\n",
      "        for j in xrange(0, array.shape[1]):\n",
      "            array[i,j] = array[0,j]"
     ],
     "language": "python",
     "metadata": {},
     "outputs": [],
     "prompt_number": 45
    },
    {
     "cell_type": "code",
     "collapsed": false,
     "input": [
      "%timeit py_copy_first_row_el(arr)"
     ],
     "language": "python",
     "metadata": {},
     "outputs": [
      {
       "output_type": "stream",
       "stream": "stdout",
       "text": [
        "10000 loops, best of 3: 27.2 \u00b5s per loop\n"
       ]
      }
     ],
     "prompt_number": 46
    },
    {
     "cell_type": "code",
     "collapsed": false,
     "input": [
      "%timeit py_copy_first_row_sl(arr)"
     ],
     "language": "python",
     "metadata": {},
     "outputs": [
      {
       "output_type": "stream",
       "stream": "stdout",
       "text": [
        "100000 loops, best of 3: 8.51 \u00b5s per loop\n"
       ]
      }
     ],
     "prompt_number": 47
    },
    {
     "cell_type": "code",
     "collapsed": false,
     "input": [],
     "language": "python",
     "metadata": {},
     "outputs": []
    }
   ],
   "metadata": {}
  }
 ]
}