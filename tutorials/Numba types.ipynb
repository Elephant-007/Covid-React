{
 "metadata": {
  "name": ""
 },
 "nbformat": 3,
 "nbformat_minor": 0,
 "worksheets": [
  {
   "cells": [
    {
     "cell_type": "code",
     "collapsed": false,
     "input": [
      "from __future__ import print_function\n",
      "import numba\n",
      "import numpy as np\n",
      "import math\n",
      "import llvm\n",
      "import decimal # used at some point to show python environments in numba\n",
      "print(\"numba version: %s \\nnumpy version: %s\\nllvm version: %s\" % (numba.__version__,np.__version__, llvm.__version__))"
     ],
     "language": "python",
     "metadata": {},
     "outputs": [
      {
       "output_type": "stream",
       "stream": "stdout",
       "text": [
        "numba version: 0.11.1-2-gf56bd17 \n",
        "numpy version: 1.7.1\n",
        "llvm version: 0.12.0\n"
       ]
      }
     ],
     "prompt_number": 104
    },
    {
     "cell_type": "heading",
     "level": 1,
     "metadata": {},
     "source": [
      "Numba and types"
     ]
    },
    {
     "cell_type": "heading",
     "level": 2,
     "metadata": {},
     "source": [
      "Introduction"
     ]
    },
    {
     "cell_type": "markdown",
     "metadata": {},
     "source": [
      "*Numba* translates *Python* code into fast executing native code. In order to generate fast native code, many dynamic features of *Python* need to be translated into static equivalents. This includes dynamic typing as well as polymorphism. The approach taken in *numba* is using *type inference* to generate *type information* for the code, so that it is possible to translate into native code. If all the values in a *numba* compiled function can be translated into native types, the resulting code will be competitive with that generated with a low level language. \n",
      "\n",
      "The objective of *type inference* is assigning a *type* to every single value in the function. The *type* of a value can either be:\n",
      "\n",
      "* *Implicit*, in the case of providing an object that will provide its *type*. This happens, for example, in literals.\n",
      "* *Explicit*, in the case of the programmer explicitly writing the *type* of a given value. This happens, for example, when a signature is given to *numba.jit*. That signature explicitly *types* the arguments.\n",
      "* *Inferred*, when the *type* is deduced from an operation and the types of the its operands. For example, inferring that the type of *a + b*, when *a* and *b* are of type *int* is going to be an *int*\n",
      "\n",
      "*Type inference* is the process by which all the *types* that are neither *implicit* nor *explicit* are deduced."
     ]
    },
    {
     "cell_type": "heading",
     "level": 2,
     "metadata": {},
     "source": [
      "Typing in a sample function"
     ]
    },
    {
     "cell_type": "markdown",
     "metadata": {},
     "source": [
      "Let's take a very simple sample function to illustrate these concepts:"
     ]
    },
    {
     "cell_type": "code",
     "collapsed": false,
     "input": [
      "def sample_func(n):\n",
      "    tmp = n + 4;\n",
      "    return tmp + 3j;"
     ],
     "language": "python",
     "metadata": {},
     "outputs": [],
     "prompt_number": 83
    },
    {
     "cell_type": "markdown",
     "metadata": {},
     "source": [
      "When translating to native code it is needed to provide *type information* for every value involved in the sample function. This will include:\n",
      "\n",
      "* The *literals* **4** and **3j**. These two have an implicit type.\n",
      "* The argument **n**. In the function, as is, it is yet untyped.\n",
      "* Some intermediate values, like **tmp** and the **return value**. Their type is not known yet."
     ]
    },
    {
     "cell_type": "heading",
     "level": 3,
     "metadata": {},
     "source": [
      "Finding out the *types* of values"
     ]
    },
    {
     "cell_type": "markdown",
     "metadata": {},
     "source": [
      "You can use the function *numba.typeof* to find out the *numba type* associated to a value. "
     ]
    },
    {
     "cell_type": "code",
     "collapsed": false,
     "input": [
      "print(numba.typeof.__doc__)"
     ],
     "language": "python",
     "metadata": {},
     "outputs": [
      {
       "output_type": "stream",
       "stream": "stdout",
       "text": [
        "\n",
        "    Get the type of a variable or value.\n",
        "\n",
        "    Used outside of Numba code, infers the type for the object.\n",
        "    \n"
       ]
      }
     ],
     "prompt_number": 84
    },
    {
     "cell_type": "markdown",
     "metadata": {},
     "source": [
      "Bear in mind that, when used from the *Python* interpreter, *numba.typeof* will return the *numba type* associated to the object passed as parameter. For example, let's try using it on the *literals* found in our sample function:"
     ]
    },
    {
     "cell_type": "code",
     "collapsed": false,
     "input": [
      "numba.typeof(4)"
     ],
     "language": "python",
     "metadata": {},
     "outputs": [
      {
       "metadata": {},
       "output_type": "pyout",
       "prompt_number": 85,
       "text": [
        "int"
       ]
      }
     ],
     "prompt_number": 85
    },
    {
     "cell_type": "code",
     "collapsed": false,
     "input": [
      "numba.typeof(3j)"
     ],
     "language": "python",
     "metadata": {},
     "outputs": [
      {
       "metadata": {},
       "output_type": "pyout",
       "prompt_number": 86,
       "text": [
        "complex128"
       ]
      }
     ],
     "prompt_number": 86
    },
    {
     "cell_type": "markdown",
     "metadata": {},
     "source": [
      "Also note that the types of the results are *numba types*:"
     ]
    },
    {
     "cell_type": "code",
     "collapsed": false,
     "input": [
      "type(numba.typeof(4))"
     ],
     "language": "python",
     "metadata": {},
     "outputs": [
      {
       "metadata": {},
       "output_type": "pyout",
       "prompt_number": 87,
       "text": [
        "numba.typesystem.types._NumbaType"
       ]
      }
     ],
     "prompt_number": 87
    },
    {
     "cell_type": "markdown",
     "metadata": {},
     "source": [
      "As a note, when used inside *numba* compiled code, *numba.typeof* will return the type as inferred during *type inference*. This may be a more general *type* than the one which would be returned when evaluating using the *Python interpreter*."
     ]
    },
    {
     "cell_type": "heading",
     "level": 3,
     "metadata": {},
     "source": [
      "*Type inference* in *numba.jit*"
     ]
    },
    {
     "cell_type": "markdown",
     "metadata": {},
     "source": [
      "When using *numba.jit*, we provide *explicit typing* to the arguments of the function in the form of the *signature*:"
     ]
    },
    {
     "cell_type": "code",
     "collapsed": false,
     "input": [
      "@numba.jit('c16(f8)')\n",
      "def jit_sample_1(n):\n",
      "    tmp = n + 4;\n",
      "    return tmp + 3j;"
     ],
     "language": "python",
     "metadata": {},
     "outputs": [],
     "prompt_number": 89
    },
    {
     "cell_type": "markdown",
     "metadata": {},
     "source": [
      "In this case, we provide information saying that the argument *n* is going to be an *8 byte float* (a typical *double precision floating point number*). The result will be a *16 byte complex* (a typical *double precision complex*).\n",
      "\n",
      "The types of different values can be checked by printing the *numba.typeof* of different values:"
     ]
    },
    {
     "cell_type": "code",
     "collapsed": false,
     "input": [
      "@numba.jit('c16(f8)')\n",
      "def jit_sample_1(n):\n",
      "    print('arg n: '+ str(numba.typeof(n)))\n",
      "    print('literal 4: ' + str(numba.typeof(4))) \n",
      "    tmp = n + 4;\n",
      "    print('tmp: '+ str(numba.typeof(tmp)))\n",
      "    print('literal 3j:' + str(numba.typeof(3j)))\n",
      "    return tmp + 3j;"
     ],
     "language": "python",
     "metadata": {},
     "outputs": [],
     "prompt_number": 99
    },
    {
     "cell_type": "code",
     "collapsed": false,
     "input": [
      "numba.typeof(jit_sample_1(42))"
     ],
     "language": "python",
     "metadata": {},
     "outputs": [
      {
       "output_type": "stream",
       "stream": "stdout",
       "text": [
        "arg n: float64\n",
        "literal 4: int\n",
        "tmp: float64\n",
        "literal 3j:complex128\n"
       ]
      },
      {
       "metadata": {},
       "output_type": "pyout",
       "prompt_number": 100,
       "text": [
        "complex128"
       ]
      }
     ],
     "prompt_number": 100
    },
    {
     "cell_type": "markdown",
     "metadata": {},
     "source": [
      "As can be seen, the types of intermediate values have been filled automatically, and the return value is a complex128. Note that the type strings used in the signature are NumPy based, and use the number of *bytes* to denote the size of the type. However, the types itself use the number of *bits* in the type. So **'f8'** is equivalent to *float64* and **'c16'** is equivalent to *complex128*.\n",
      "\n",
      "If instead of using a *float64* as type for the argument we had used, say, an *int8*, the intermediate values would be a bit different:"
     ]
    },
    {
     "cell_type": "code",
     "collapsed": false,
     "input": [
      "@numba.jit('c16(i1)')\n",
      "def jit_sample_2(n):\n",
      "    print('arg n: '+ str(numba.typeof(n)))\n",
      "    print('literal 4: ' + str(numba.typeof(4))) \n",
      "    tmp = n + 4;\n",
      "    print('tmp: '+ str(numba.typeof(tmp)))\n",
      "    print('literal 3j:' + str(numba.typeof(3j)))\n",
      "    return tmp + 3j;"
     ],
     "language": "python",
     "metadata": {},
     "outputs": [],
     "prompt_number": 106
    },
    {
     "cell_type": "code",
     "collapsed": false,
     "input": [
      "numba.typeof(jit_sample_2(42))"
     ],
     "language": "python",
     "metadata": {},
     "outputs": [
      {
       "output_type": "stream",
       "stream": "stdout",
       "text": [
        "arg n: int8\n",
        "literal 4: int\n",
        "tmp: int32\n",
        "literal 3j:complex128\n"
       ]
      },
      {
       "metadata": {},
       "output_type": "pyout",
       "prompt_number": 107,
       "text": [
        "complex128"
       ]
      }
     ],
     "prompt_number": 107
    },
    {
     "cell_type": "markdown",
     "metadata": {},
     "source": [
      "It is also possible to specify explicit types for variables by using a the *locals* keyword in *numba.jit*. This allows explicit typing of a variable. In our last example we could use this to, for example, force *tmp* to be a 16 bit integer."
     ]
    },
    {
     "cell_type": "code",
     "collapsed": false,
     "input": [
      "@numba.jit('c16(i1)', locals={'tmp': numba.int16})\n",
      "def jit_sample_3(n):\n",
      "    print('arg n: '+ str(numba.typeof(n)))\n",
      "    print('literal 4: ' + str(numba.typeof(4))) \n",
      "    tmp = n + 4;\n",
      "    print('tmp: '+ str(numba.typeof(tmp)))\n",
      "    print('literal 3j:' + str(numba.typeof(3j)))\n",
      "    return tmp + 3j;"
     ],
     "language": "python",
     "metadata": {},
     "outputs": [],
     "prompt_number": 112
    },
    {
     "cell_type": "code",
     "collapsed": false,
     "input": [
      "numba.typeof(jit_sample_3(42))"
     ],
     "language": "python",
     "metadata": {},
     "outputs": [
      {
       "output_type": "stream",
       "stream": "stdout",
       "text": [
        "arg n: int8\n",
        "literal 4: int\n",
        "tmp: int16\n",
        "literal 3j:complex128\n"
       ]
      },
      {
       "metadata": {},
       "output_type": "pyout",
       "prompt_number": 113,
       "text": [
        "complex128"
       ]
      }
     ],
     "prompt_number": 113
    },
    {
     "cell_type": "heading",
     "level": 3,
     "metadata": {},
     "source": [
      "*Type inference* in *numba.autojit*"
     ]
    },
    {
     "cell_type": "markdown",
     "metadata": {},
     "source": [
      "As opposed to *numba.jit*, in *numba.autojit* no signature is explicitly provided to the function. This is because *numba.autojit* automatically chooses at run-time the specialization to use based on the types of the arguments for that call. In the case that no specialization is available, it compiles the specialization.\n",
      "\n",
      "In general, the process of *type inference* is similar in both *numba.jit* and *numba.autojit*. The only difference is that in *numba.jit* an *explicit signature* is provided. In jit a single compilation in built for that specific *signature*. With *numba.autojit* a signature is inferred from the actual objects passed as arguments in a call. *Numba* compiles the function for that *inferred signature* and calls it. There is caching under the hood, so a given function is only compiled once with a given *signature*.\n",
      "\n",
      "Going back to our example:"
     ]
    },
    {
     "cell_type": "code",
     "collapsed": false,
     "input": [
      "@numba.autojit\n",
      "def autojit_sample(n):\n",
      "    print('arg n: '+ str(numba.typeof(n)))\n",
      "    print('literal 4: ' + str(numba.typeof(4))) \n",
      "    tmp = n + 4;\n",
      "    print('tmp: '+ str(numba.typeof(tmp)))\n",
      "    print('literal 3j:' + str(numba.typeof(3j)))\n",
      "    return tmp + 3j;"
     ],
     "language": "python",
     "metadata": {},
     "outputs": [],
     "prompt_number": 115
    },
    {
     "cell_type": "code",
     "collapsed": false,
     "input": [
      "numba.typeof(autojit_sample(42))"
     ],
     "language": "python",
     "metadata": {},
     "outputs": [
      {
       "output_type": "stream",
       "stream": "stdout",
       "text": [
        "arg n: int\n",
        "literal 4: int\n",
        "tmp: int\n",
        "literal 3j:complex128\n"
       ]
      },
      {
       "metadata": {},
       "output_type": "pyout",
       "prompt_number": 122,
       "text": [
        "complex128"
       ]
      }
     ],
     "prompt_number": 122
    },
    {
     "cell_type": "code",
     "collapsed": false,
     "input": [
      "numba.typeof(autojit_sample(42.0))"
     ],
     "language": "python",
     "metadata": {},
     "outputs": [
      {
       "output_type": "stream",
       "stream": "stdout",
       "text": [
        "arg n: float64\n",
        "literal 4: int\n",
        "tmp: float64\n",
        "literal 3j:complex128\n"
       ]
      },
      {
       "metadata": {},
       "output_type": "pyout",
       "prompt_number": 123,
       "text": [
        "complex128"
       ]
      }
     ],
     "prompt_number": 123
    },
    {
     "cell_type": "code",
     "collapsed": false,
     "input": [
      "numba.typeof(autojit_sample(42 + 0j))"
     ],
     "language": "python",
     "metadata": {},
     "outputs": [
      {
       "output_type": "stream",
       "stream": "stdout",
       "text": [
        "arg n: complex128\n",
        "literal 4: int\n",
        "tmp: complex128\n",
        "literal 3j:complex128\n"
       ]
      },
      {
       "metadata": {},
       "output_type": "pyout",
       "prompt_number": 125,
       "text": [
        "complex128"
       ]
      }
     ],
     "prompt_number": 125
    },
    {
     "cell_type": "markdown",
     "metadata": {},
     "source": [
      "In all three cases a new version of the function is compiled. In each cases the types of the arguments/intermediate values differ slightly.\n",
      "\n",
      "It is also possible to use the *locals* keyword with *autojit*: "
     ]
    },
    {
     "cell_type": "code",
     "collapsed": false,
     "input": [
      "@numba.autojit(locals={'tmp': numba.complex64})\n",
      "def autojit_sample_2(n):\n",
      "    print('arg n: '+ str(numba.typeof(n)))\n",
      "    print('literal 4: ' + str(numba.typeof(4))) \n",
      "    tmp = n + 4;\n",
      "    print('tmp: '+ str(numba.typeof(tmp)))\n",
      "    print('literal 3j:' + str(numba.typeof(3j)))\n",
      "    return tmp + 3j;"
     ],
     "language": "python",
     "metadata": {},
     "outputs": [],
     "prompt_number": 133
    },
    {
     "cell_type": "code",
     "collapsed": false,
     "input": [
      "numba.typeof(autojit_sample_2(42 + 0j))"
     ],
     "language": "python",
     "metadata": {},
     "outputs": [
      {
       "output_type": "stream",
       "stream": "stdout",
       "text": [
        "arg n: complex128\n",
        "literal 4: int\n",
        "tmp: complex64\n",
        "literal 3j:complex128\n"
       ]
      },
      {
       "metadata": {},
       "output_type": "pyout",
       "prompt_number": 134,
       "text": [
        "complex128"
       ]
      }
     ],
     "prompt_number": 134
    },
    {
     "cell_type": "code",
     "collapsed": false,
     "input": [
      "numba.typeof(autojit_sample_2(42))"
     ],
     "language": "python",
     "metadata": {},
     "outputs": [
      {
       "output_type": "stream",
       "stream": "stdout",
       "text": [
        "arg n: int\n",
        "literal 4: int\n",
        "tmp: complex64\n",
        "literal 3j:complex128\n"
       ]
      },
      {
       "metadata": {},
       "output_type": "pyout",
       "prompt_number": 135,
       "text": [
        "complex128"
       ]
      }
     ],
     "prompt_number": 135
    },
    {
     "cell_type": "heading",
     "level": 2,
     "metadata": {},
     "source": [
      "Supported types in *numba*"
     ]
    },
    {
     "cell_type": "markdown",
     "metadata": {},
     "source": [
      "TODO: Enumeration of types directly understood by numba (or at least most of them). Mention to *object* and its relationship with *nopython*.\n"
     ]
    },
    {
     "cell_type": "heading",
     "level": 2,
     "metadata": {},
     "source": [
      "Specifying types"
     ]
    },
    {
     "cell_type": "markdown",
     "metadata": {},
     "source": [
      "TODO: A guide on the accepted ways to write down types. Like using the string signatures 'f8(c16, c16)' as well as building the objects like numba.float64(float.complex128, float.complex128)"
     ]
    },
    {
     "cell_type": "code",
     "collapsed": false,
     "input": [],
     "language": "python",
     "metadata": {},
     "outputs": []
    }
   ],
   "metadata": {}
  }
 ]
}